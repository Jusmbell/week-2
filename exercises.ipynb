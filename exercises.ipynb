{
 "cells": [
  {
   "cell_type": "markdown",
   "id": "6cf1aed9",
   "metadata": {},
   "source": [
    "<font color='darkred'> Unless otherwise noted, **this notebook will not be reviewed or autograded.**</font> You are welcome to use it for scratchwork, but **only the files listed in the exercises will be checked.**\n",
    "\n",
    "---\n",
    "\n",
    "# Exercises\n",
    "\n",
    "For these exercises, add your functions to the *apputil\\.py* file. If you like, you're welcome to adjust the *app\\.py* file, but it is not required.\n",
    "\n",
    "## Exercise 1\n",
    "\n",
    "Given enough pennies (1 cent) and nickels (5 cents), write a function `ways(n)` which calculates the number of ways you can make change for a given amount of cents `n`. The function should return the number of ways to yield `n` cents using only pennies and nickels.\n",
    "\n",
    "**Test Cases:**\n",
    "\n",
    "```python\n",
    "function   --->      (num pennies, num nickels)\n",
    "    \n",
    "ways(12)   ---> 3    [(2, 2), (7, 1), (12, 0)]               \n",
    "ways(20)   ---> 5    [(0, 4), (5, 3), (10, 2), (15, 1), (20, 0)]\n",
    "ways(3)    ---> 1    [(3, 0)]\n",
    "ways(0)    ---> 1    [(0, 0)]\n",
    "```\n",
    "\n",
    "*Note: the autograder will be checking only for the function to return the **number** of ways. The items listed to the right, above, are for reference only.*"
   ]
  },
  {
   "cell_type": "markdown",
   "id": "a067cdd5",
   "metadata": {
    "vscode": {
     "languageId": "plaintext"
    }
   },
   "source": [
    "### optional variation\n",
    "\n",
    "Update your `ways` function to incorporate an *arbitrary* set of coin values. I.e., your function should now look something like this:\n",
    "\n",
    "```python\n",
    "def ways(cents, coin_types=[1, 5]):\n",
    "    # code code ...\n",
    "\n",
    ">>> ways(100, [25, 10, 5, 1])\n",
    ">>> 242\n",
    "```\n"
   ]
  },
  {
   "cell_type": "code",
   "execution_count": 10,
   "id": "ae5247e1",
   "metadata": {},
   "outputs": [],
   "source": [
    "def ways(n):\n",
    "    ways_list = []  # List to store each way as a tuple\n",
    "    # Try every possible number of nickels from 0 up to n//5\n",
    "    for nickels in range(n // 5 + 1):\n",
    "        pennies = n - 5 * nickels  # Remaining cents must be pennies\n",
    "        if pennies >= 0:\n",
    "            ways_list.append((pennies, nickels))  # Add the tuple to the list\n",
    "    # Print each way\n",
    "    for way in ways_list:\n",
    "        print(way)\n",
    "    # Print the total number of ways\n",
    "    print(\"Total ways:\", len(ways_list))\n",
    "    return len(ways_list)"
   ]
  },
  {
   "cell_type": "code",
   "execution_count": 12,
   "id": "cd252cba",
   "metadata": {},
   "outputs": [
    {
     "name": "stdout",
     "output_type": "stream",
     "text": [
      "(12, 0)\n",
      "(7, 1)\n",
      "(2, 2)\n",
      "Total ways: 3\n"
     ]
    },
    {
     "data": {
      "text/plain": [
       "3"
      ]
     },
     "execution_count": 12,
     "metadata": {},
     "output_type": "execute_result"
    }
   ],
   "source": [
    "ways(12)"
   ]
  },
  {
   "cell_type": "markdown",
   "id": "28682d59",
   "metadata": {},
   "source": [
    "## Exercise 2\n",
    "\n",
    "Suppose we have student `names`, and test `scores` for each student, respectively. For example, we could have:\n",
    "\n",
    "```python\n",
    "names = np.array(['Hannah', 'Astrid', 'Abdul', 'Mauve', 'Jung'])\n",
    "scores = np.array([99, 71, 85, 62, 91])\n",
    "```\n",
    "\n",
    "### part 1\n",
    "\n",
    "Use NumPy to write a function `lowest_score(names, scores)` that returns the `name` of the student with the lowest `score`.\n",
    "\n",
    "> Hint: take a look at the [argmin](https://numpy.org/doc/stable/reference/generated/numpy.argmin.html) function.\n",
    "\n",
    "### part 2\n",
    "\n",
    "Write a similar function `sort_names(names, scores)` that will list the names of students in *descending* order of test score (i.e., a list of names, with associated scores in order from highest to lowest)."
   ]
  },
  {
   "cell_type": "code",
   "execution_count": null,
   "id": "8d78555f",
   "metadata": {},
   "outputs": [
    {
     "name": "stdout",
     "output_type": "stream",
     "text": [
      "Lowest score: Mauve\n",
      "Sorted names and scores: [(np.str_('Hannah'), np.int64(99)), (np.str_('Jung'), np.int64(91)), (np.str_('Abdul'), np.int64(85)), (np.str_('Astrid'), np.int64(71)), (np.str_('Mauve'), np.int64(62))]\n"
     ]
    }
   ],
   "source": [
    "import numpy as np\n",
    "\n",
    "# --- part 1 ---\n",
    "def lowest_score(names, scores):\n",
    "    # Find the index of the lowest score\n",
    "    idx = np.argmin(scores)\n",
    "    return names[idx]\n",
    "\n",
    "# --- part 2 ---\n",
    "def sort_names(names, scores):\n",
    "    # Get indices that would sort scores in descending order\n",
    "    sorted_indices = np.argsort(scores)[::-1]\n",
    "    # Return names and scores sorted by descending score\n",
    "    return list(zip(names[sorted_indices], scores[sorted_indices]))\n",
    "\n",
    "# Example usage:\n",
    "names = np.array(['Hannah', 'Astrid', 'Abdul', 'Mauve', 'Jung'])\n",
    "scores = np.array([99, 71, 85, 62, 91])\n",
    "\n",
    "print('Lowest score:', lowest_score(names, scores))\n",
    "print('Sorted names and scores:', sort_names(names, scores))"
   ]
  }
 ],
 "metadata": {
  "kernelspec": {
   "display_name": "base",
   "language": "python",
   "name": "python3"
  },
  "language_info": {
   "codemirror_mode": {
    "name": "ipython",
    "version": 3
   },
   "file_extension": ".py",
   "mimetype": "text/x-python",
   "name": "python",
   "nbconvert_exporter": "python",
   "pygments_lexer": "ipython3",
   "version": "3.11.13"
  }
 },
 "nbformat": 4,
 "nbformat_minor": 5
}
